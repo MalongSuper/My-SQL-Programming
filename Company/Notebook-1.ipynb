{
    "metadata": {
        "kernelspec": {
            "name": "SQL",
            "display_name": "SQL",
            "language": "sql"
        },
        "language_info": {
            "name": "sql",
            "version": ""
        }
    },
    "nbformat_minor": 2,
    "nbformat": 4,
    "cells": [
        {
            "cell_type": "code",
            "source": [
                "CREATE DATABASE Company ON  PRIMARY \n",
                "\t( NAME = 'Company', \n",
                "\tFILENAME = '/Users/macbook/Downloads/Company.mdf' , \n",
                "\tSIZE = 3072KB, \n",
                " \tMAXSIZE = UNLIMITED, \n",
                "\tFILEGROWTH = 1024KB )\n",
                " LOG ON \n",
                "\t( NAME = 'Company_log', \n",
                "\tFILENAME = '/Users/macbook/DownloadsCompany_log.ldf' , \n",
                "\tSIZE = 1024KB , \n",
                "\tMAXSIZE = 2048KB , \n",
                "\tFILEGROWTH = 10%);\n",
                "GO"
            ],
            "metadata": {
                "azdata_cell_guid": "d3a1aeb0-ac4b-428e-b3b9-b19b722a215b",
                "language": "sql"
            },
            "outputs": [
                {
                    "output_type": "error",
                    "evalue": "Msg 1801, Level 16, State 3, Line 1\nDatabase 'Company' already exists. Choose a different database name.",
                    "ename": "",
                    "traceback": []
                },
                {
                    "output_type": "display_data",
                    "data": {
                        "text/html": "Total execution time: 00:00:00.004"
                    },
                    "metadata": {}
                }
            ],
            "execution_count": 1
        },
        {
            "cell_type": "code",
            "source": [
                "-- Create Employee table\n",
                "CREATE TABLE Employee (\n",
                "  FName VARCHAR(50) NOT NULL,\n",
                "  Minit VARCHAR(50) NOT NULL,\n",
                "  LName VARCHAR(50) NOT NULL,\n",
                "  SSN VARCHAR(9) PRIMARY KEY,\n",
                "  BDate DATE NOT NULL,\n",
                "  Address VARCHAR(100) NOT NULL,\n",
                "  Sex CHAR(1) NOT NULL,\n",
                "  Salary NUMERIC(10) NULL,\n",
                "  CONSTRAINT chk_SSN CHECK(SSN LIKE '[0-9][0-9][0-9][0-9][0-9][0-9][0-9][0-9][0-9]'),\n",
                "  CONSTRAINT chk_Sex CHECK(Sex in ('F', 'M')),\n",
                "  CONSTRAINT chk_Salary CHECK(Salary < 100000 and Salary >= 10000)\n",
                ");\n",
                "GO"
            ],
            "metadata": {
                "language": "sql",
                "azdata_cell_guid": "a9e381f2-82e0-4d7d-a935-530c5c2a9a85"
            },
            "outputs": [],
            "execution_count": null
        },
        {
            "cell_type": "code",
            "source": [
                "-- Create Department table\n",
                "CREATE TABLE Department(\n",
                "    DName VARCHAR(50) UNIQUE NOT NULL,\n",
                "    DNumber INT PRIMARY KEY\n",
                ");\n",
                "GO"
            ],
            "metadata": {
                "language": "sql",
                "azdata_cell_guid": "192870b9-8887-4c33-9e7e-7fefb166fe1b"
            },
            "outputs": [],
            "execution_count": null
        },
        {
            "cell_type": "code",
            "source": [
                "-- Insert into Department table\n",
                "INSERT INTO Department(DName, DNumber) VALUES ('Headquarters', 1);\n",
                "INSERT INTO Department(DName, DNumber) VALUES ('Administration', 4);\n",
                "INSERT INTO Department(DName, DNumber) VALUES ('Research', 5);\n",
                "\n",
                "-- Insert into Employee table\n",
                "INSERT INTO Employee(FName, Minit, LName, SSN, BDate, Address, Sex, Salary) VALUES ('John', 'B', 'Smith', '123456789', '1955-01-09', 'Houston, TX', 'M', 30000);\n",
                "INSERT INTO Employee(FName, Minit, LName, SSN, BDate, Address, Sex, Salary) VALUES ('Franklin', 'T', 'Wong', '333445555', '1945-08-12', 'Houston, TX', 'M', 40000);\n",
                "INSERT INTO Employee(FName, Minit, LName, SSN, BDate, Address, Sex, Salary) VALUES ('Joyce', 'A', 'English', '453453453', '1962-07-31', 'Houston, TX', 'F', 25000);\n",
                "INSERT INTO Employee(FName, Minit, LName, SSN, BDate, Address, Sex, Salary) VALUES ('Ramesh', 'K', 'Narayan', '666884444', '1952-09-15', 'Houston, TX', 'M', 38000);\n",
                "INSERT INTO Employee(FName, Minit, LName, SSN, BDate, Address, Sex, Salary) VALUES ('James', 'E', 'Borg', '888665555', '1927-11-10', 'Houston, TX', 'M', 55000);\n",
                "INSERT INTO Employee(FName, Minit, LName, SSN, BDate, Address, Sex, Salary) VALUES ('Jennifer', 'S', 'Wallace', '987654321', '1931-06-20', 'Bellaire, TX', 'F', 43000);\n",
                "INSERT INTO Employee(FName, Minit, LName, SSN, BDate, Address, Sex, Salary) VALUES ('Ahmad', 'V', 'Jabbar', '987987987', '1959-03-29', 'Houston, TX', 'M', 25000);\n",
                "INSERT INTO Employee(FName, Minit, LName, SSN, BDate, Address, Sex, Salary) VALUES ('Alicia', 'J', 'Zelaya', '999887777', '1958-07-19', 'Spring, TX', 'F', 25000);"
            ],
            "metadata": {
                "language": "sql",
                "azdata_cell_guid": "295dc2c6-7d9d-43c8-9d51-e17a28dc16e9"
            },
            "outputs": [],
            "execution_count": null
        },
        {
            "cell_type": "code",
            "source": [
                "-- Add columns for Super_ssn and Dno and foreign keys\n",
                "ALTER TABLE Employee\n",
                "ADD Super_SSN VARCHAR(9) NULL,\n",
                "    DNo INT NULL,\n",
                "    FOREIGN KEY (Super_SSN) REFERENCES Employee(SSN),\n",
                "  \tFOREIGN KEY (DNo) REFERENCES Department(DNumber);\n",
                "GO\n",
                "\n",
                "-- Update Super_ssn and Dno for each employee\n",
                "UPDATE Employee SET Super_SSN = '333445555', DNo = 5 WHERE SSN = '123456789';\n",
                "UPDATE Employee SET Super_SSN = '888665555', DNo = 5 WHERE SSN = '333445555';\n",
                "UPDATE Employee SET Super_SSN = '333445555', DNo = 5 WHERE SSN = '453453453';\n",
                "UPDATE Employee SET Super_SSN = '333445555', DNo = 5 WHERE SSN = '666884444';\n",
                "UPDATE Employee SET Super_SSN = NULL, DNo = 1 WHERE SSN = '888665555';\n",
                "UPDATE Employee SET Super_SSN = '888665555', DNo = 4 WHERE SSN = '987654321';\n",
                "UPDATE Employee SET Super_SSN = '987654321', DNo = 4 WHERE SSN = '987987987';\n",
                "UPDATE Employee SET Super_SSN = '987654321', DNo = 4 WHERE SSN = '999887777';"
            ],
            "metadata": {
                "language": "sql",
                "azdata_cell_guid": "06684723-4915-4258-87a0-3771fe60c64e"
            },
            "outputs": [],
            "execution_count": null
        },
        {
            "cell_type": "code",
            "source": [
                "-- Add columns for Mgrssn, MgrStartDate\n",
                "ALTER TABLE Department\n",
                "ADD Mgrssn VARCHAR(9) NULL,\n",
                "\t\tMgrStartDate DATE NULL,\n",
                "    FOREIGN KEY (Mgrssn) REFERENCES Employee(SSN);\n",
                "GO\n",
                "\n",
                "-- Update Mgrssn, MgrStartDate for each Department\n",
                "UPDATE Department SET Mgrssn = '888665555', MgrStartDate='1971-06-19' WHERE Dnumber = 1;\n",
                "UPDATE Department SET Mgrssn = '987654321', MgrStartDate='1985-01-01' WHERE Dnumber = 4;\n",
                "UPDATE Department SET Mgrssn = '333445555', MgrStartDate='1978-05-22' WHERE Dnumber = 5;"
            ],
            "metadata": {
                "language": "sql",
                "azdata_cell_guid": "a0220ed8-0652-49c0-aff2-7a48b98d9e68",
                "tags": []
            },
            "outputs": [],
            "execution_count": null
        },
        {
            "cell_type": "code",
            "source": [
                "-- Department Locations table\n",
                "CREATE TABLE Dept_Location (\n",
                "  DNumber INT,\n",
                "  DLocation VARCHAR(50),\n",
                "  CONSTRAINT PK_Dept_Location PRIMARY KEY(DNumber, DLocation),\n",
                "  FOREIGN KEY (DNumber) REFERENCES Department(DNumber)\n",
                ");\n",
                "GO\n",
                "\n",
                "-- Dept Location Table\n",
                "INSERT INTO Dept_Location(DNumber, DLocation) VALUES (1, 'Houston');\n",
                "INSERT INTO Dept_Location(DNumber, DLocation) VALUES (4, 'Stafford');\n",
                "INSERT INTO Dept_Location(DNumber, DLocation) VALUES (5, 'Bellaire');\n",
                "INSERT INTO Dept_Location(DNumber, DLocation) VALUES (5, 'Houston');\n",
                "INSERT INTO Dept_Location(DNumber, DLocation) VALUES (5, 'Sugarland');"
            ],
            "metadata": {
                "language": "sql",
                "azdata_cell_guid": "0e6a160f-ebcf-4cdb-bfb0-ae99d0ba0708"
            },
            "outputs": [],
            "execution_count": null
        },
        {
            "cell_type": "code",
            "source": [
                "-- Project Table\n",
                "CREATE TABLE Project (\n",
                "  PName VARCHAR(50) UNIQUE NOT NULL,\n",
                "  PNumber INT PRIMARY KEY,\n",
                "  PLocation VARCHAR(50) NOT NULL,\n",
                ");\n",
                "GO\n",
                "\n",
                "-- Project Table\n",
                "INSERT INTO Project(PName, PNumber, PLocation) VALUES ('ProductX', 1, 'Bellaire');\n",
                "INSERT INTO Project(PName, PNumber, PLocation) VALUES ('ProductY', 2, 'Sugarland');\n",
                "INSERT INTO Project(PName, PNumber, PLocation) VALUES ('ProductZ', 3, 'Houston');\n",
                "INSERT INTO Project(PName, PNumber, PLocation) VALUES ('Computerization', 10, 'Stafford'); \n",
                "INSERT INTO Project(PName, PNumber, PLocation) VALUES ('Reorganization', 20, 'Houston'); \n",
                "INSERT INTO Project(PName, PNumber, PLocation) VALUES ('Newbenefits', 30, 'Stafford');   "
            ],
            "metadata": {
                "language": "sql",
                "azdata_cell_guid": "2867449d-ee75-4ab4-a79c-a5f42b3261c4"
            },
            "outputs": [],
            "execution_count": null
        },
        {
            "cell_type": "code",
            "source": [
                "-- Works_On Table\n",
                "CREATE TABLE Works_On (\n",
                "  ESSN VARCHAR(9),\n",
                "  PNo INT,\n",
                "  Hours NUMERIC(3, 1),\n",
                "  CONSTRAINT chk_Hours CHECK(Hours <= 40.0 and Hours  > 0),\n",
                "  FOREIGN KEY (ESSN) REFERENCES Employee(SSN),\n",
                "  FOREIGN KEY (PNo) REFERENCES Project(PNumber)\n",
                ");\n",
                "GO\n",
                "\n",
                "-- Works_on Table\n",
                "INSERT INTO Works_On(ESSN, PNo, Hours) VALUES ('123456789', 1, 32.5);\n",
                "INSERT INTO Works_On(ESSN, PNo, Hours) VALUES ('123456789', 2, 7.5);\n",
                "INSERT INTO Works_On(ESSN, PNo, Hours) VALUES ('333445555', 2, 10.0);\n",
                "INSERT INTO Works_On(ESSN, PNo, Hours) VALUES ('333445555', 3, 10.0);\n",
                "INSERT INTO Works_On(ESSN, PNo, Hours) VALUES ('333445555', 10, 10.0);\n",
                "INSERT INTO Works_On(ESSN, PNo, Hours) VALUES ('333445555', 20, 10.0);\n",
                "INSERT INTO Works_On(ESSN, PNo, Hours) VALUES ('453453453', 1, 20.0);\n",
                "INSERT INTO Works_On(ESSN, PNo, Hours) VALUES ('453453453', 2, 20.0);\n",
                "INSERT INTO Works_On(ESSN, PNo, Hours) VALUES ('666884444', 3, 40.0); \n",
                "INSERT INTO Works_On(ESSN, PNo, Hours) VALUES ('888665555', 20, NULL); \n",
                "INSERT INTO Works_On(ESSN, PNo, Hours) VALUES ('987654321', 20, 15.0);\n",
                "INSERT INTO Works_On(ESSN, PNo, Hours) VALUES ('987654321', 30, 20.0);\n",
                "INSERT INTO Works_On(ESSN, PNo, Hours) VALUES ('987987987', 10, 35.0);\n",
                "INSERT INTO Works_On(ESSN, PNo, Hours) VALUES ('987987987', 30, 5.0);\n",
                "INSERT INTO Works_On(ESSN, PNo, Hours) VALUES ('999887777', 10, 10.0);\n",
                "INSERT INTO Works_On(ESSN, PNo, Hours) VALUES ('999887777', 30, 30.0);"
            ],
            "metadata": {
                "language": "sql",
                "azdata_cell_guid": "9262e942-e105-4e93-8324-8b3c1da69e07"
            },
            "outputs": [],
            "execution_count": null
        },
        {
            "cell_type": "code",
            "source": [
                "-- Dependent Table\n",
                "CREATE TABLE Dependent (\n",
                "  ESSN VARCHAR(9),\n",
                "  Dependent_Name VARCHAR(25),\n",
                "  Sex CHAR(1) NOT NULL,\n",
                "  BDate DATE NOT NULL,\n",
                "  Relationship VARCHAR(25) NOT NULL,\n",
                "  CONSTRAINT PK_Dependent PRIMARY KEY(ESSN, Dependent_Name),\n",
                "  CONSTRAINT chk_Sex_Dependent CHECK(Sex in ('F', 'M')), -- Since there is already chk_Sex in Employee\n",
                "  FOREIGN KEY (ESSN) REFERENCES Employee(SSN)\n",
                ");\n",
                "GO\n",
                "\n",
                "-- DEPENDENT table\n",
                "INSERT INTO Dependent(ESSN, Dependent_Name, Sex, BDate, Relationship) VALUES ('123456789', 'Alice',\t'F', '1978-12-31', 'Daughter');\n",
                "INSERT INTO Dependent(ESSN, Dependent_Name, Sex, BDate, Relationship) VALUES ('123456789', 'Elizabeth',\t'F', '1957-05-05', 'Spouse');\n",
                "INSERT INTO Dependent(ESSN, Dependent_Name, Sex, BDate, Relationship) VALUES ('123456789', 'Michael',\t'M', '1978-01-01', 'Son');\n",
                "INSERT INTO Dependent(ESSN, Dependent_Name, Sex, BDate, Relationship) VALUES ('333445555', 'Alice',\t'F', '1976-05-04', 'Daughter');\n",
                "INSERT INTO Dependent(ESSN, Dependent_Name, Sex, BDate, Relationship) VALUES ('333445555', 'Joy',\t'F', '1948-03-05', 'Spouse');\n",
                "INSERT INTO Dependent(ESSN, Dependent_Name, Sex, BDate, Relationship) VALUES ('333445555', 'Theodore',\t'M', '1973-10-25', 'Son');\n",
                "INSERT INTO Dependent(ESSN, Dependent_Name, Sex, BDate, Relationship) VALUES ('987654321', 'Abner',\t'M', '1932-02-29', 'Spouse');"
            ],
            "metadata": {
                "language": "sql",
                "azdata_cell_guid": "cd446726-c112-43a0-939c-124f519d1d8b"
            },
            "outputs": [],
            "execution_count": null
        },
        {
            "cell_type": "code",
            "source": [
                "-- Display all tables\n",
                "SELECT * FROM Department;\n",
                "SELECT * FROM Employee;\n",
                "SELECT * FROM Dept_Location;\n",
                "SELECT * FROM Project;\n",
                "SELECT * FROM Works_On;\n",
                "SELECT * FROM Dependent;"
            ],
            "metadata": {
                "language": "sql",
                "azdata_cell_guid": "9c5c0048-dd0e-4448-87be-56942e668225"
            },
            "outputs": [],
            "execution_count": null
        }
    ]
}