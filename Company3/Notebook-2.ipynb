{
    "metadata": {
        "kernelspec": {
            "name": "SQL",
            "display_name": "SQL",
            "language": "sql"
        },
        "language_info": {
            "name": "sql",
            "version": ""
        }
    },
    "nbformat_minor": 2,
    "nbformat": 4,
    "cells": [
        {
            "cell_type": "markdown",
            "source": [
                "B.\tBảng ảo - View"
            ],
            "metadata": {
                "azdata_cell_guid": "d2d31ee3-a43f-4477-bab6-a2b21ee7a1b4"
            }
        },
        {
            "cell_type": "markdown",
            "source": [
                "Viết câu lệnh tạo các view và thực hiện các yêu cầu:"
            ],
            "metadata": {
                "azdata_cell_guid": "f530c663-0a57-4ad7-ade7-e9d04b891936"
            }
        },
        {
            "cell_type": "markdown",
            "source": [
                "14.\tViết câu lệnh tạo view tên v_EmpSuperSSN: cho biết các thông tin tên phòng ban, họ tên nhân viên giám sát (Supper_SSN), họ tên nhân viên."
            ],
            "metadata": {
                "azdata_cell_guid": "aaf0287e-25f3-4602-8343-3ec39f6502d1"
            }
        },
        {
            "cell_type": "markdown",
            "source": [
                "Lệnh"
            ],
            "metadata": {
                "azdata_cell_guid": "204aa1a7-6d42-4b60-b095-b27cb970b8d4"
            }
        },
        {
            "cell_type": "code",
            "source": [
                "USE Company;"
            ],
            "metadata": {
                "azdata_cell_guid": "1b72d7a7-8bbb-47ad-b063-7d93b900f352",
                "language": "sql"
            },
            "outputs": [],
            "execution_count": null
        },
        {
            "cell_type": "code",
            "source": [
                "CREATE VIEW [v_EmpSuperSSN] AS\n",
                "SELECT d.DName, e1.FName AS EmpFName, e1.Minit AS EmpMinit, e1.LName AS EmpLName, \n",
                "e2.FName AS SuperFName, e2.Minit AS SuperMinit, e2.LName AS SuperLName\n",
                "FROM Employee e1\n",
                "JOIN Department d ON e1.DNo = d.DNumber\n",
                "JOIN Employee e2 ON e1.SSN = e2.Super_SSN;"
            ],
            "metadata": {
                "azdata_cell_guid": "270d84f3-10d3-4973-908f-028cc60617ee",
                "language": "sql"
            },
            "outputs": [],
            "execution_count": null
        },
        {
            "cell_type": "markdown",
            "source": [
                "--Xem view đã tồn tại?"
            ],
            "metadata": {
                "azdata_cell_guid": "42e0e5e0-0996-4c5c-a653-36367495a8e9"
            }
        },
        {
            "cell_type": "markdown",
            "source": [
                "Thực hiện – Kết quả (kiểm chứng)"
            ],
            "metadata": {
                "azdata_cell_guid": "a6d285cc-b147-4949-af50-3037e321478d"
            }
        },
        {
            "cell_type": "markdown",
            "source": [
                "--Truy vấn dữ liệu từ view để kiểm tra kết quả"
            ],
            "metadata": {
                "azdata_cell_guid": "a1209fde-c008-41be-bebd-3dfd78372798"
            }
        },
        {
            "cell_type": "markdown",
            "source": [
                "15.\tViết câu lệnh tạo view tên v_DepEmp: cho biết các thông tin Tên phòng ban, Tên trưởng phòng, Họ tên nhân viên của mỗi phòng ban."
            ],
            "metadata": {
                "azdata_cell_guid": "3aeca158-0c6a-4600-acd8-2d92e36ebcb2"
            }
        },
        {
            "cell_type": "markdown",
            "source": [
                "Lệnh"
            ],
            "metadata": {
                "azdata_cell_guid": "f5e6590a-ff1e-4190-8df7-93d472ee2213"
            }
        },
        {
            "cell_type": "markdown",
            "source": [
                "--SQL1"
            ],
            "metadata": {
                "azdata_cell_guid": "2aeac156-22ae-4fa5-86c5-30adbb86a596"
            }
        },
        {
            "cell_type": "code",
            "source": [
                "CREATE VIEW [v_DepEmp] AS\n",
                "SELECT d.DName AS Dept, e1.FName AS MgrFName, e1.LName AS MgrLName, \n",
                "e2.FName AS EmpFName, e2.LName AS EmpLName FROM Employee e1\n",
                "JOIN Employee e2 ON e1.SSN = e2.Super_SSN\n",
                "JOIN Department d ON d.Mgrssn = e1.SSN;"
            ],
            "metadata": {
                "azdata_cell_guid": "169a55bd-a2b5-482f-9105-d4622b367440",
                "language": "sql"
            },
            "outputs": [],
            "execution_count": null
        },
        {
            "cell_type": "markdown",
            "source": [
                "Thực hiện – Kết quả (kiểm chứng)"
            ],
            "metadata": {
                "azdata_cell_guid": "17581f93-403f-4ef8-8f28-4977f35756f3"
            }
        },
        {
            "cell_type": "markdown",
            "source": [
                "16.\tViết câu lệnh tạo view tên v_PrjEmp: cho biết các thông tin Tên dự án, địa điểm dự án, Tên nhân viên tham gia dự án."
            ],
            "metadata": {
                "azdata_cell_guid": "cd8cc4e6-b7b3-4d42-ab8e-af1e22537697"
            }
        },
        {
            "cell_type": "markdown",
            "source": [
                "Lệnh"
            ],
            "metadata": {
                "azdata_cell_guid": "c6a9ff24-d678-45d5-80cd-5b8ee1fc5094"
            }
        },
        {
            "cell_type": "markdown",
            "source": [
                "--SQL1"
            ],
            "metadata": {
                "azdata_cell_guid": "bb7b53f9-ba7d-4e5f-b77d-d68c213fcf2d"
            }
        },
        {
            "cell_type": "code",
            "source": [
                "CREATE VIEW [v_PrjEmp] AS\n",
                "SELECT p.PName AS ProjectName, p.PLocation AS ProjectLocation,\n",
                "e.FName AS EmpFName, e.Minit AS EmpMinit, e.LName AS EmpLName FROM Project p \n",
                "JOIN Works_On w ON p.PNumber = w.PNo\n",
                "JOIN Employee e ON w.ESSN = e.SSN;"
            ],
            "metadata": {
                "azdata_cell_guid": "a4840611-947a-49b6-b49d-2e5efde25827",
                "language": "sql"
            },
            "outputs": [],
            "execution_count": null
        },
        {
            "cell_type": "markdown",
            "source": [
                "Thực hiện – Kết quả (kiểm chứng)"
            ],
            "metadata": {
                "azdata_cell_guid": "ccfa08c1-593c-4f0e-8de5-bc706762cdeb"
            }
        },
        {
            "cell_type": "markdown",
            "source": [
                "17.\tViết câu lệnh tạo view tên v_EmpDep: cho biết các thông tin tên nhân viên, tên thân nhân (nếu có), mối quan hệ (relationship) của tất cả các nhân viên."
            ],
            "metadata": {
                "azdata_cell_guid": "da7fad65-36c8-4a7e-aede-3206b29f2c31"
            }
        },
        {
            "cell_type": "markdown",
            "source": [
                "Lệnh"
            ],
            "metadata": {
                "azdata_cell_guid": "aff83954-553d-4da6-bd46-1510e0284ef9"
            }
        },
        {
            "cell_type": "markdown",
            "source": [
                "--SQL1"
            ],
            "metadata": {
                "azdata_cell_guid": "e56b8d10-a08e-4356-a1b6-51f2bae5b0ed"
            }
        },
        {
            "cell_type": "code",
            "source": [
                "CREATE VIEW [v_EmpDep] AS\n",
                "SELECT e.Fname, e.Minit, e.LName, d.Dependent_Name, d.Relationship\n",
                "FROM Employee e \n",
                "LEFT JOIN Dependent d ON e.SSN = d.ESSN;"
            ],
            "metadata": {
                "azdata_cell_guid": "18ca90b2-81b2-423f-a1d4-cffd681fdd65",
                "language": "sql"
            },
            "outputs": [],
            "execution_count": null
        },
        {
            "cell_type": "markdown",
            "source": [
                "Thực hiện – Kết quả (kiểm chứng)"
            ],
            "metadata": {
                "azdata_cell_guid": "1be65648-bdcd-4d51-8a8e-fd8d38170d6c"
            }
        },
        {
            "cell_type": "markdown",
            "source": [
                "18.\tViết câu lệnh tạo view tên v_DeptPrj: cho biết các thông tin tên phòng ban, tên dự án, địa điểm dự án, số lượng nhân viên và tổng thời gian dự án."
            ],
            "metadata": {
                "azdata_cell_guid": "e723a9d5-6377-474f-9a47-b6383386f5e1"
            }
        },
        {
            "cell_type": "markdown",
            "source": [
                "Lệnh"
            ],
            "metadata": {
                "azdata_cell_guid": "356c8d65-e89d-41f4-b4fd-48d650435b07"
            }
        },
        {
            "cell_type": "markdown",
            "source": [
                "--SQL1"
            ],
            "metadata": {
                "azdata_cell_guid": "a7e92176-0dca-47fc-b2c1-921a09dd6dd1"
            }
        },
        {
            "cell_type": "code",
            "source": [
                "CREATE VIEW [v_DeptPrj] AS\n",
                "SELECT d.DName, p.PName, p.PLocation, \n",
                "COUNT(DISTINCT w.ESSN) AS NumofEmployees, SUM(w.Hours) AS TotalHours FROM Department d \n",
                "JOIN Project p ON d.DNumber = p.DNum\n",
                "LEFT JOIN Works_On w ON w.PNo = p.PNumber\n",
                "GROUP BY d.DName, p.PName, p.PLocation;"
            ],
            "metadata": {
                "azdata_cell_guid": "c67ec6cf-d8ef-43d3-aab3-9cb0341adc58",
                "language": "sql"
            },
            "outputs": [],
            "execution_count": null
        },
        {
            "cell_type": "markdown",
            "source": [
                "Thực hiện – Kết quả (kiểm chứng)"
            ],
            "metadata": {
                "azdata_cell_guid": "1a8f5666-968e-45e7-9186-fbc7c80a62a7"
            }
        },
        {
            "cell_type": "markdown",
            "source": [
                "19.\tViết câu lệnh liệt kê các view vừa tạo."
            ],
            "metadata": {
                "azdata_cell_guid": "45805dd5-e1a6-45c4-95f9-7dfe000eb8eb"
            }
        },
        {
            "cell_type": "markdown",
            "source": [
                "Lệnh"
            ],
            "metadata": {
                "azdata_cell_guid": "5e5926c8-51e5-4e20-b451-57d9d666de2c"
            }
        },
        {
            "cell_type": "markdown",
            "source": [
                "--SQL1"
            ],
            "metadata": {
                "azdata_cell_guid": "b064fe2f-fdfb-4b74-9d93-5d9f35e00922"
            }
        },
        {
            "cell_type": "code",
            "source": [
                "SELECT TABLE_SCHEMA, TABLE_NAME FROM INFORMATION_SCHEMA.VIEWS\n",
                "\n",
                "-- 20.\tViết câu lệnh truy vấn dữ liệu từ view đã tạo ở câu 1, 2, 3, 4, 5.\n",
                "-- Lệnh\n",
                "-- --SQL1\n",
                "-- --Truy vấn dữ liệu từ view để kiểm tra kết quả, câu 1\n",
                "SELECT * FROM v_EmpSuperSSN\n",
                "SELECT * FROM v_DepEmp\n",
                "SELECT * FROM v_PrjEmp\n",
                "SELECT * FROM v_EmpDep\n",
                "SELECT * FROM v_DeptPrj\n",
                "\t\n",
                "-- 21.\tViết câu lệnh xóa các view vừa tạo ở câu 1, 2, 3, 4, 5.\n",
                "-- Lệnh\n",
                "-- --SQL1\n",
                "-- --Truy vấn dữ liệu từ view để kiểm tra kết quả, câu 1\n",
                "DROP VIEW v_EmpSuperSSN\n",
                "DROP VIEW v_DepEmp\n",
                "DROP VIEW v_PrjEmp\n",
                "DROP VIEW v_EmpDep\n",
                "DROP VIEW v_DeptPrj\n",
                "\n",
                "-- C.\tChỉ mục - INDEX\n",
                "-- Viết câu lệnh tạo các chỉ mục (index) và thực hiện các yêu cầu:\n",
                "-- 22.\tLiệt kê các kiểu chỉ mục (index) có trong SQL mà bạn biết.\n",
                "-- Thực hiện – Kết quả (kiểm chứng)\n",
                "\n",
                "-- 23.\tViết câu lệnh tạo Single Column Index với tên index là idx_fname cho trường Fname trong bảng Employee.\n",
                "-- Lệnh\n",
                "-- --SQL1\n",
                "CREATE INDEX idx_fname ON Employee(FName);"
            ],
            "metadata": {
                "azdata_cell_guid": "803088e8-13e3-44e0-8b1d-73d3cb743ad1",
                "language": "sql"
            },
            "outputs": [],
            "execution_count": null
        },
        {
            "cell_type": "markdown",
            "source": [
                "24.\tViết câu lệnh tạo Single Column Index với tên idx_DepdName cho trường Dependent_Name trong bảng Dependent."
            ],
            "metadata": {
                "azdata_cell_guid": "5511ab87-9f5d-4df0-a8c7-13c53b86171c"
            }
        },
        {
            "cell_type": "markdown",
            "source": [
                "Lệnh"
            ],
            "metadata": {
                "azdata_cell_guid": "d9bc9671-c670-41d7-890d-d9cc305d2f6b"
            }
        },
        {
            "cell_type": "markdown",
            "source": [
                "--SQL1"
            ],
            "metadata": {
                "azdata_cell_guid": "0fe05231-c42c-4725-8e2f-3d3f39e3026e"
            }
        },
        {
            "cell_type": "code",
            "source": [
                "CREATE INDEX idx_DepdName ON Dependent(Dependent_Name);"
            ],
            "metadata": {
                "azdata_cell_guid": "e5402aed-c701-493f-9007-d113d30011a3",
                "language": "sql"
            },
            "outputs": [],
            "execution_count": null
        },
        {
            "cell_type": "markdown",
            "source": [
                "25.\tViết câu lệnh tạo Single Column Index với tên idx_Dloca cho trường DLocation trong bảng Dept_Location."
            ],
            "metadata": {
                "azdata_cell_guid": "14efc864-6bcc-408e-8c72-4d344ed92626"
            }
        },
        {
            "cell_type": "markdown",
            "source": [
                "Lệnh"
            ],
            "metadata": {
                "azdata_cell_guid": "1d8ad44a-7d61-47c8-9e5f-dbf6cbd527e9"
            }
        },
        {
            "cell_type": "markdown",
            "source": [
                "--SQL1"
            ],
            "metadata": {
                "azdata_cell_guid": "b38e0a08-fbfe-4aa3-9b9f-852a8d118017"
            }
        },
        {
            "cell_type": "code",
            "source": [
                "CREATE INDEX idx_Dloca ON Dept_Location(DLocation);"
            ],
            "metadata": {
                "azdata_cell_guid": "f8841d73-a7a0-4292-886b-9f83406fbb13",
                "language": "sql"
            },
            "outputs": [],
            "execution_count": null
        },
        {
            "cell_type": "markdown",
            "source": [
                "26.\tViết câu lệnh tạo Single Column Index với tên idx_PrjLoc cho trường PLocation trong bảng Project."
            ],
            "metadata": {
                "azdata_cell_guid": "9fa5ba8d-f4e9-4dd0-8889-66781c4559dd"
            }
        },
        {
            "cell_type": "markdown",
            "source": [
                "Lệnh"
            ],
            "metadata": {
                "azdata_cell_guid": "9eb467bf-09ff-4dc2-ab21-6d6271596fb8"
            }
        },
        {
            "cell_type": "markdown",
            "source": [
                "--SQL1"
            ],
            "metadata": {
                "azdata_cell_guid": "1e200975-a1bd-443d-9a75-a4e26e8fad2f"
            }
        },
        {
            "cell_type": "code",
            "source": [
                "CREATE INDEX idx_PrjLoc ON Project(PLocation);"
            ],
            "metadata": {
                "azdata_cell_guid": "21e53dda-ccdd-4eff-8ce3-8e4d814ee2be",
                "language": "sql"
            },
            "outputs": [],
            "execution_count": null
        },
        {
            "cell_type": "markdown",
            "source": [
                "27.\tViết câu lệnh tạo Unique Index với tên index là idx_ssn cho trường ssn trong bảng Employee."
            ],
            "metadata": {
                "azdata_cell_guid": "415ae227-c183-4a1f-b321-b9b699df8cef"
            }
        },
        {
            "cell_type": "markdown",
            "source": [
                "Lệnh"
            ],
            "metadata": {
                "azdata_cell_guid": "cc1210f4-d9df-4455-86d9-56ebe7e5b6e1"
            }
        },
        {
            "cell_type": "markdown",
            "source": [
                "--SQL1"
            ],
            "metadata": {
                "azdata_cell_guid": "6a40b663-4091-4978-acd6-16d470a5a73c"
            }
        },
        {
            "cell_type": "code",
            "source": [
                "CREATE UNIQUE INDEX idx_ssn ON Employee(SSN);"
            ],
            "metadata": {
                "azdata_cell_guid": "9d11ca55-3ab7-405c-ae83-9697ce87a8b8",
                "language": "sql"
            },
            "outputs": [],
            "execution_count": null
        },
        {
            "cell_type": "markdown",
            "source": [
                "28.\tViết câu lệnh tạo Unique Index với tên index là idx_address cho trường address trong bảng Employee."
            ],
            "metadata": {
                "azdata_cell_guid": "eff6fd65-aae5-4d14-86cd-1fcf8ea36738"
            }
        },
        {
            "cell_type": "markdown",
            "source": [
                "Lệnh"
            ],
            "metadata": {
                "azdata_cell_guid": "22aff325-ab93-481b-ad96-027a15289081"
            }
        },
        {
            "cell_type": "markdown",
            "source": [
                "--SQL1"
            ],
            "metadata": {
                "azdata_cell_guid": "3475a169-4cd8-4db9-8629-d36065a723f8"
            }
        },
        {
            "cell_type": "code",
            "source": [
                "CREATE INDEX idx_address ON Employee(Address);"
            ],
            "metadata": {
                "azdata_cell_guid": "4d976b2c-dc6c-48e9-90e6-431131a59aa4",
                "language": "sql"
            },
            "outputs": [],
            "execution_count": null
        },
        {
            "cell_type": "markdown",
            "source": [
                "29.\tViết câu lệnh tạo Composite Index với tên idx_EmpFLName cho 2 trường: (FName + Lname) trong bảng Employee."
            ],
            "metadata": {
                "azdata_cell_guid": "89585774-637d-488f-9e45-0efb9de537b2"
            }
        },
        {
            "cell_type": "markdown",
            "source": [
                "Lệnh"
            ],
            "metadata": {
                "azdata_cell_guid": "51be4977-7808-4eba-8dc9-d49d4db8af4c"
            }
        },
        {
            "cell_type": "markdown",
            "source": [
                "--SQL1"
            ],
            "metadata": {
                "azdata_cell_guid": "46b32d68-9af6-4e1d-a80d-1b8798f161c0"
            }
        },
        {
            "cell_type": "code",
            "source": [
                "CREATE INDEX idx_EmpFLName ON Employee(FName, LName);"
            ],
            "metadata": {
                "azdata_cell_guid": "3a878a2c-0899-4b00-9589-6d994d323e6b",
                "language": "sql"
            },
            "outputs": [],
            "execution_count": null
        },
        {
            "cell_type": "markdown",
            "source": [
                "30.\tViết câu lệnh tạo Composite Index với tên idx_EmpLFName cho 2 trường: (LName + Fname) trong bảng Employee."
            ],
            "metadata": {
                "azdata_cell_guid": "32256ac2-a64e-4f04-89d1-cdf29fb6f6a8"
            }
        },
        {
            "cell_type": "markdown",
            "source": [
                "Lệnh"
            ],
            "metadata": {
                "azdata_cell_guid": "4465e542-8941-428d-b516-256ab901bc22"
            }
        },
        {
            "cell_type": "markdown",
            "source": [
                "--SQL1"
            ],
            "metadata": {
                "azdata_cell_guid": "9516c0a4-114b-4ed9-b3bc-635349a33c56"
            }
        },
        {
            "cell_type": "code",
            "source": [
                "CREATE INDEX idx_EmpLFName ON Employee(LName, FName);"
            ],
            "metadata": {
                "azdata_cell_guid": "289d1d6b-0d98-45aa-8d01-65092f961a51",
                "language": "sql"
            },
            "outputs": [],
            "execution_count": null
        },
        {
            "cell_type": "markdown",
            "source": [
                "31.\tLiệt kê tên các chỉ mục Implicit Index được tạo tự động cho các ràng buộc Primary key hoặc các ràng buộc Unique trong CSDL Company."
            ],
            "metadata": {
                "azdata_cell_guid": "6f87e6c6-81ca-47c8-b5ad-b7fdbbf7ade1"
            }
        },
        {
            "cell_type": "markdown",
            "source": [
                "Lệnh"
            ],
            "metadata": {
                "azdata_cell_guid": "5ef34f8b-743e-48ab-831b-cc0f8278c581"
            }
        },
        {
            "cell_type": "markdown",
            "source": [
                "--SQL1"
            ],
            "metadata": {
                "azdata_cell_guid": "b0bcbbb5-88b2-4019-86c5-5224f580c643"
            }
        },
        {
            "cell_type": "code",
            "source": [
                "SELECT * FROM sys.tables -- Returns all tables in the system\n",
                "SELECT * FROM sys.indexes -- Returns all Index Name\n",
                "SELECT * FROM sys.key_constraints\n",
                "\n",
                "SELECT \n",
                "    t.name AS TableName,\n",
                "    i.name AS IndexName,\n",
                "    kc.type_desc AS ConstraintType\n",
                "FROM \n",
                "    sys.key_constraints kc\n",
                "    JOIN sys.tables t ON kc.parent_object_id = t.object_id\n",
                "    JOIN sys.indexes i ON kc.parent_object_id = i.object_id AND kc.unique_index_id = i.index_id\n",
                "WHERE kc.type IN ('PK', 'UQ');"
            ],
            "metadata": {
                "azdata_cell_guid": "0299a603-bcd8-403b-a153-473d59388808",
                "language": "sql"
            },
            "outputs": [],
            "execution_count": null
        },
        {
            "cell_type": "markdown",
            "source": [
                "32.\tXem thời gian thực thi câu lệnh sau khi thực hiện tạo index. “Liệt kê thông tin bảng nhân viên. Lưu ý: Sinh viên viết câu lệnh và chụp màn hình kết quả."
            ],
            "metadata": {
                "azdata_cell_guid": "56b88116-fc1b-454d-bc6f-8e6a35243c24"
            }
        },
        {
            "cell_type": "markdown",
            "source": [
                "Lệnh"
            ],
            "metadata": {
                "azdata_cell_guid": "2e7bec7d-d671-4dfb-ba28-83ef018a6007"
            }
        },
        {
            "cell_type": "markdown",
            "source": [
                "--SQL1"
            ],
            "metadata": {
                "azdata_cell_guid": "5c43c940-9c9c-4ca3-83a0-3aee961219b9"
            }
        },
        {
            "cell_type": "code",
            "source": [
                "SET STATISTICS TIME ON;\n",
                "SELECT * FROM Employee;\n",
                "SET STATISTICS TIME OFF;"
            ],
            "metadata": {
                "azdata_cell_guid": "a9a532dd-f9d7-4b0c-ae07-d79f6e172765",
                "language": "sql"
            },
            "outputs": [],
            "execution_count": null
        },
        {
            "cell_type": "markdown",
            "source": [
                "Kết quả"
            ],
            "metadata": {
                "azdata_cell_guid": "2cee8039-c61e-4ff7-b60e-58555429ac2a"
            }
        },
        {
            "cell_type": "markdown",
            "source": [
                "33.\tViết câu lệnh liệt kê các index vừa tạo."
            ],
            "metadata": {
                "azdata_cell_guid": "4f2a4bae-d615-416a-8b73-e00ee4beab86"
            }
        },
        {
            "cell_type": "markdown",
            "source": [
                "Lệnh và kết quả"
            ],
            "metadata": {
                "azdata_cell_guid": "ab07924a-6d0b-4004-ba31-cd55e36270fc"
            }
        },
        {
            "cell_type": "markdown",
            "source": [
                "--SQL1"
            ],
            "metadata": {
                "azdata_cell_guid": "dd810e7f-0097-476b-95e7-b5df3a38b78c"
            }
        },
        {
            "cell_type": "code",
            "source": [
                "SELECT \n",
                "     TableName = t.name,\n",
                "     IndexName = ind.name,\n",
                "     IndexId = ind.index_id,\n",
                "     ColumnId = ic.index_column_id,\n",
                "     ColumnName = col.name\n",
                "FROM \n",
                "     sys.indexes ind \n",
                "INNER JOIN \n",
                "     sys.index_columns ic ON  ind.object_id = ic.object_id and ind.index_id = ic.index_id \n",
                "INNER JOIN \n",
                "     sys.columns col ON ic.object_id = col.object_id and ic.column_id = col.column_id \n",
                "INNER JOIN \n",
                "     sys.tables t ON ind.object_id = t.object_id \n",
                "WHERE \n",
                "     ind.is_primary_key = 0 \n",
                "     AND ind.is_unique = 0 \n",
                "     AND ind.is_unique_constraint = 0 \n",
                "     AND t.is_ms_shipped = 0 \n",
                "ORDER BY \n",
                "     t.name, ind.name, ind.index_id, ic.is_included_column, ic.key_ordinal;\n",
                "\n",
                "-- 34.\tViết câu lệnh xóa các index tối thiểu 3 index vừa tạo.\n",
                "-- Lệnh\n",
                "-- --SQL1\n",
                "DROP INDEX idx_fname ON Employee;\n",
                "DROP INDEX idx_DepdName ON Dependent;\n",
                "DROP INDEX idx_Dloca ON Dept_Location;\n",
                "DROP INDEX idx_PrjLoc ON Project;\n",
                "DROP INDEX idx_ssn ON Employee;\n",
                "DROP INDEX idx_address ON Employee;\n",
                "DROP INDEX idx_EmpFLName ON Employee;\n",
                "DROP INDEX idx_EmpLFName ON Employee;"
            ],
            "metadata": {
                "azdata_cell_guid": "9240e9ab-8f88-4b3b-8c60-c2c647eabe09",
                "language": "sql"
            },
            "outputs": [],
            "execution_count": null
        }
    ]
}