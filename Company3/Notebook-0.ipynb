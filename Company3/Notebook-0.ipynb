{
    "metadata": {
        "kernelspec": {
            "name": "SQL",
            "display_name": "SQL",
            "language": "sql"
        },
        "language_info": {
            "name": "sql",
            "version": ""
        }
    },
    "nbformat_minor": 2,
    "nbformat": 4,
    "cells": [
        {
            "cell_type": "code",
            "source": [
                "CREATE DATABASE Company;"
            ],
            "metadata": {
                "azdata_cell_guid": "1f85d3b6-3235-46c8-8aec-90d0c5735077",
                "language": "sql"
            },
            "outputs": [],
            "execution_count": null
        },
        {
            "cell_type": "code",
            "source": [
                "USE Company;"
            ],
            "metadata": {
                "azdata_cell_guid": "b69088bb-ff84-41ff-9d43-81b98b9544c0",
                "language": "sql"
            },
            "outputs": [],
            "execution_count": null
        },
        {
            "cell_type": "markdown",
            "source": [
                "Create Department table"
            ],
            "metadata": {
                "azdata_cell_guid": "52766e51-ce40-483a-8e52-57a0f6d877ad"
            }
        },
        {
            "cell_type": "code",
            "source": [
                "CREATE TABLE Department(\n",
                "    DName VARCHAR(50) UNIQUE NOT NULL,\n",
                "    DNumber INT PRIMARY KEY\n",
                ");"
            ],
            "metadata": {
                "azdata_cell_guid": "08f2ba0b-3860-48f7-95a3-da613719d367",
                "language": "sql"
            },
            "outputs": [],
            "execution_count": null
        },
        {
            "cell_type": "markdown",
            "source": [
                "Create Employee table"
            ],
            "metadata": {
                "azdata_cell_guid": "0981a51f-4b42-4fe3-ab81-e0aff1d28a5b"
            }
        },
        {
            "cell_type": "code",
            "source": [
                "CREATE TABLE Employee (\n",
                "  FName VARCHAR(50) NOT NULL,\n",
                "  Minit VARCHAR(50) NOT NULL,\n",
                "  LName VARCHAR(50) NOT NULL,\n",
                "  SSN VARCHAR(9) PRIMARY KEY,\n",
                "  BDate DATE NOT NULL,\n",
                "  Address VARCHAR(100) NOT NULL,\n",
                "  Sex CHAR(1) NOT NULL,\n",
                "  Salary NUMERIC(10) NULL,\n",
                "  CONSTRAINT chk_SSN CHECK(SSN LIKE '[0-9][0-9][0-9][0-9][0-9][0-9][0-9][0-9][0-9]'),\n",
                "  CONSTRAINT chk_Sex CHECK(Sex in ('F', 'M')),\n",
                "  CONSTRAINT chk_Salary CHECK(Salary < 100000 and Salary >= 10000)\n",
                ");"
            ],
            "metadata": {
                "azdata_cell_guid": "b1fbf010-0d65-495a-8145-d0d8a3a58712",
                "language": "sql"
            },
            "outputs": [],
            "execution_count": null
        },
        {
            "cell_type": "markdown",
            "source": [
                "Department Locations table"
            ],
            "metadata": {
                "azdata_cell_guid": "5380f8a9-2084-4030-bb16-44378f5b14c7"
            }
        },
        {
            "cell_type": "code",
            "source": [
                "CREATE TABLE Dept_Location (\n",
                "  DNumber INT,\n",
                "  DLocation VARCHAR(50),\n",
                "  CONSTRAINT PK_Dept_Location PRIMARY KEY(DNumber, DLocation),\n",
                "  FOREIGN KEY (DNumber) REFERENCES Department(DNumber)\n",
                ");"
            ],
            "metadata": {
                "azdata_cell_guid": "45a73c0d-4df9-45f1-a1cc-4fb3b54196c6",
                "language": "sql"
            },
            "outputs": [],
            "execution_count": null
        },
        {
            "cell_type": "markdown",
            "source": [
                "Project Table"
            ],
            "metadata": {
                "azdata_cell_guid": "eb04099d-07dd-4c35-943e-5acb802a6443"
            }
        },
        {
            "cell_type": "code",
            "source": [
                "CREATE TABLE Project (\n",
                "  PName VARCHAR(50) UNIQUE NOT NULL,\n",
                "  PNumber INT PRIMARY KEY,\n",
                "  PLocation VARCHAR(50) NOT NULL\n",
                ");"
            ],
            "metadata": {
                "azdata_cell_guid": "bda78602-0ee0-4f98-9dc8-912619009051",
                "language": "sql"
            },
            "outputs": [],
            "execution_count": null
        },
        {
            "cell_type": "markdown",
            "source": [
                "Works_On Table"
            ],
            "metadata": {
                "azdata_cell_guid": "639cae3d-ad12-4168-9be7-0a025cc37583"
            }
        },
        {
            "cell_type": "code",
            "source": [
                "CREATE TABLE Works_On (\n",
                "  ESSN VARCHAR(9),\n",
                "  PNo INT,\n",
                "  Hours NUMERIC(3, 1),\n",
                "  CONSTRAINT chk_Hours CHECK(Hours <= 40.0 and Hours  > 0),\n",
                "  CONSTRAINT PK_Works_On PRIMARY KEY(ESSN, PNo),\n",
                "  FOREIGN KEY (ESSN) REFERENCES Employee(SSN),\n",
                "  FOREIGN KEY (PNo) REFERENCES Project(PNumber)\n",
                ");"
            ],
            "metadata": {
                "azdata_cell_guid": "197fa984-3f93-4cc9-b0ea-ccbf5fbb4e87",
                "language": "sql"
            },
            "outputs": [],
            "execution_count": null
        },
        {
            "cell_type": "markdown",
            "source": [
                "Dependent Table"
            ],
            "metadata": {
                "azdata_cell_guid": "277a6ab7-f2c7-4e70-857a-7957b9bff634"
            }
        },
        {
            "cell_type": "code",
            "source": [
                "CREATE TABLE Dependent (\n",
                "  ESSN VARCHAR(9),\n",
                "  Dependent_Name VARCHAR(25),\n",
                "  Sex CHAR(1) NOT NULL,\n",
                "  BDate DATE NOT NULL,\n",
                "  Relationship VARCHAR(25) NOT NULL,\n",
                "  CONSTRAINT PK_Dependent PRIMARY KEY(ESSN, Dependent_Name),\n",
                "  CONSTRAINT chk_Sex_Dependent CHECK(Sex in ('F', 'M')), -- Since there is already chk_Sex in Employee\n",
                "  FOREIGN KEY (ESSN) REFERENCES Employee(SSN)\n",
                ");"
            ],
            "metadata": {
                "azdata_cell_guid": "7ff2d96d-d242-41b0-9ba3-e4c09560ae3e",
                "language": "sql"
            },
            "outputs": [],
            "execution_count": null
        },
        {
            "cell_type": "markdown",
            "source": [
                "Insert into Department table"
            ],
            "metadata": {
                "azdata_cell_guid": "33733fbb-3cb6-49dc-a408-934d01d40d11"
            }
        },
        {
            "cell_type": "code",
            "source": [
                "INSERT INTO Department(DName, DNumber) VALUES ('Headquarters', 1);\n",
                "INSERT INTO Department(DName, DNumber) VALUES ('Administration', 4);\n",
                "INSERT INTO Department(DName, DNumber) VALUES ('Research', 5);\n",
                "\n",
                "-- Insert into Employee table\n",
                "INSERT INTO Employee(FName, Minit, LName, SSN, BDate, Address, Sex, Salary) VALUES ('John', 'B', 'Smith', '123456789', '1955-01-09', 'Houston, TX', 'M', 30000);\n",
                "INSERT INTO Employee(FName, Minit, LName, SSN, BDate, Address, Sex, Salary) VALUES ('Franklin', 'T', 'Wong', '333445555', '1945-08-12', 'Houston, TX', 'M', 40000);\n",
                "INSERT INTO Employee(FName, Minit, LName, SSN, BDate, Address, Sex, Salary) VALUES ('Joyce', 'A', 'English', '453453453', '1962-07-31', 'Houston, TX', 'F', 25000);\n",
                "INSERT INTO Employee(FName, Minit, LName, SSN, BDate, Address, Sex, Salary) VALUES ('Ramesh', 'K', 'Narayan', '666884444', '1952-09-15', 'Houston, TX', 'M', 38000);\n",
                "INSERT INTO Employee(FName, Minit, LName, SSN, BDate, Address, Sex, Salary) VALUES ('James', 'E', 'Borg', '888665555', '1927-11-10', 'Houston, TX', 'M', 55000);\n",
                "INSERT INTO Employee(FName, Minit, LName, SSN, BDate, Address, Sex, Salary) VALUES ('Jennifer', 'S', 'Wallace', '987654321', '1931-06-20', 'Bellaire, TX', 'F', 43000);\n",
                "INSERT INTO Employee(FName, Minit, LName, SSN, BDate, Address, Sex, Salary) VALUES ('Ahmad', 'V', 'Jabbar', '987987987', '1959-03-29', 'Houston, TX', 'M', 25000);\n",
                "INSERT INTO Employee(FName, Minit, LName, SSN, BDate, Address, Sex, Salary) VALUES ('Alicia', 'J', 'Zelaya', '999887777', '1958-07-19', 'Spring, TX', 'F', 25000);\n",
                "\n",
                "-- Add columns for Super_ssn and Dno and foreign keys\n",
                "ALTER TABLE Employee\n",
                "ADD Super_SSN VARCHAR(9) NULL,\n",
                "    DNo INT NULL,\n",
                "    FOREIGN KEY (Super_SSN) REFERENCES Employee(SSN),\n",
                "  \tFOREIGN KEY (DNo) REFERENCES Department(DNumber);"
            ],
            "metadata": {
                "azdata_cell_guid": "2efac3ec-0da4-4da6-bdba-adf6a05171a4",
                "language": "sql"
            },
            "outputs": [],
            "execution_count": null
        },
        {
            "cell_type": "markdown",
            "source": [
                "Update Super_ssn and Dno for each employee"
            ],
            "metadata": {
                "azdata_cell_guid": "0f1ebfdf-77ed-4844-a8f4-81740f6eb47d"
            }
        },
        {
            "cell_type": "code",
            "source": [
                "UPDATE Employee SET Super_SSN = '333445555', DNo = 5 WHERE SSN = '123456789';\n",
                "UPDATE Employee SET Super_SSN = '888665555', DNo = 5 WHERE SSN = '333445555';\n",
                "UPDATE Employee SET Super_SSN = '333445555', DNo = 5 WHERE SSN = '453453453';\n",
                "UPDATE Employee SET Super_SSN = '333445555', DNo = 5 WHERE SSN = '666884444';\n",
                "UPDATE Employee SET Super_SSN = NULL, DNo = 1 WHERE SSN = '888665555';\n",
                "UPDATE Employee SET Super_SSN = '888665555', DNo = 4 WHERE SSN = '987654321';\n",
                "UPDATE Employee SET Super_SSN = '987654321', DNo = 4 WHERE SSN = '987987987';\n",
                "UPDATE Employee SET Super_SSN = '987654321', DNo = 4 WHERE SSN = '999887777';\n",
                "\n",
                "-- Add columns for Mgrssn, MgrStartDate\n",
                "ALTER TABLE Department\n",
                "ADD Mgrssn VARCHAR(9) NULL,\n",
                "\tMgrStartDate DATE NULL,\n",
                "    FOREIGN KEY (Mgrssn) REFERENCES Employee(SSN);"
            ],
            "metadata": {
                "azdata_cell_guid": "25f06928-360f-44f2-a525-13f47a8bcc64",
                "language": "sql"
            },
            "outputs": [],
            "execution_count": null
        },
        {
            "cell_type": "markdown",
            "source": [
                "Update Mgrssn, MgrStartDate for each Department"
            ],
            "metadata": {
                "azdata_cell_guid": "413a468a-c307-4ae3-8aea-7bbdebfa9494"
            }
        },
        {
            "cell_type": "code",
            "source": [
                "UPDATE Department SET Mgrssn = '888665555', MgrStartDate='1971-06-19' WHERE Dnumber = 1;\n",
                "UPDATE Department SET Mgrssn = '987654321', MgrStartDate='1985-01-01' WHERE Dnumber = 4;\n",
                "UPDATE Department SET Mgrssn = '333445555', MgrStartDate='1978-05-22' WHERE Dnumber = 5;\n",
                "\n",
                "-- Dept Location Table\n",
                "INSERT INTO Dept_Location(DNumber, DLocation) VALUES (1, 'Houston');\n",
                "INSERT INTO Dept_Location(DNumber, DLocation) VALUES (4, 'Stafford');\n",
                "INSERT INTO Dept_Location(DNumber, DLocation) VALUES (5, 'Bellaire');\n",
                "INSERT INTO Dept_Location(DNumber, DLocation) VALUES (5, 'Houston');\n",
                "INSERT INTO Dept_Location(DNumber, DLocation) VALUES (5, 'Sugarland');\n",
                "\n",
                "-- Project Table\n",
                "INSERT INTO Project(PName, PNumber, PLocation) VALUES ('ProductX', 1, 'Bellaire');\n",
                "INSERT INTO Project(PName, PNumber, PLocation) VALUES ('ProductY', 2, 'Sugarland');\n",
                "INSERT INTO Project(PName, PNumber, PLocation) VALUES ('ProductZ', 3, 'Houston');\n",
                "INSERT INTO Project(PName, PNumber, PLocation) VALUES ('Computerization', 10, 'Stafford'); \n",
                "INSERT INTO Project(PName, PNumber, PLocation) VALUES ('Reorganization', 20, 'Houston'); \n",
                "INSERT INTO Project(PName, PNumber, PLocation) VALUES ('Newbenefits', 30, 'Stafford');                                                    \n",
                "\n",
                "-- Add columns for DNum\n",
                "ALTER TABLE Project\n",
                "ADD DNum INT NULL,\n",
                "\tFOREIGN KEY (DNum) REFERENCES Department(DNumber);"
            ],
            "metadata": {
                "azdata_cell_guid": "d5d2f915-de6e-452f-8bb0-40386a4ebf20",
                "language": "sql"
            },
            "outputs": [],
            "execution_count": null
        },
        {
            "cell_type": "markdown",
            "source": [
                "Update DNum each Project"
            ],
            "metadata": {
                "azdata_cell_guid": "7b23d374-a388-45a7-8fd2-01c338dade6a"
            }
        },
        {
            "cell_type": "code",
            "source": [
                "UPDATE Project SET DNum = 5 WHERE PNumber = 1;\n",
                "UPDATE Project SET DNum = 5 WHERE PNumber = 2;\n",
                "UPDATE Project SET DNum = 5 WHERE PNumber = 3;\n",
                "UPDATE Project SET DNum = 4 WHERE PNumber = 10;\n",
                "UPDATE Project SET DNum = 1 WHERE PNumber = 20;\n",
                "UPDATE Project SET DNum = 4 WHERE PNumber = 30;\n",
                "\n",
                "-- Works_on Table\n",
                "INSERT INTO Works_On(ESSN, PNo, Hours) VALUES ('123456789', 1, 32.5);\n",
                "INSERT INTO Works_On(ESSN, PNo, Hours) VALUES ('123456789', 2, 7.5);\n",
                "INSERT INTO Works_On(ESSN, PNo, Hours) VALUES ('333445555', 2, 10.0);\n",
                "INSERT INTO Works_On(ESSN, PNo, Hours) VALUES ('333445555', 3, 10.0);\n",
                "INSERT INTO Works_On(ESSN, PNo, Hours) VALUES ('333445555', 10, 10.0);\n",
                "INSERT INTO Works_On(ESSN, PNo, Hours) VALUES ('333445555', 20, 10.0);\n",
                "INSERT INTO Works_On(ESSN, PNo, Hours) VALUES ('453453453', 1, 20.0);\n",
                "INSERT INTO Works_On(ESSN, PNo, Hours) VALUES ('453453453', 2, 20.0);\n",
                "INSERT INTO Works_On(ESSN, PNo, Hours) VALUES ('666884444', 3, 40.0); \n",
                "INSERT INTO Works_On(ESSN, PNo, Hours) VALUES ('888665555', 20, NULL); \n",
                "INSERT INTO Works_On(ESSN, PNo, Hours) VALUES ('987654321', 20, 15.0);\n",
                "INSERT INTO Works_On(ESSN, PNo, Hours) VALUES ('987654321', 30, 20.0);\n",
                "INSERT INTO Works_On(ESSN, PNo, Hours) VALUES ('987987987', 10, 35.0);\n",
                "INSERT INTO Works_On(ESSN, PNo, Hours) VALUES ('987987987', 30, 5.0);\n",
                "INSERT INTO Works_On(ESSN, PNo, Hours) VALUES ('999887777', 10, 10.0);\n",
                "INSERT INTO Works_On(ESSN, PNo, Hours) VALUES ('999887777', 30, 30.0);\n",
                "\n",
                "-- DEPENDENT table\n",
                "INSERT INTO Dependent(ESSN, Dependent_Name, Sex, BDate, Relationship) VALUES ('123456789', 'Alice',\t'F', '1978-12-31', 'Daughter');\n",
                "INSERT INTO Dependent(ESSN, Dependent_Name, Sex, BDate, Relationship) VALUES ('123456789', 'Elizabeth',\t'F', '1957-05-05', 'Spouse');\n",
                "INSERT INTO Dependent(ESSN, Dependent_Name, Sex, BDate, Relationship) VALUES ('123456789', 'Michael',\t'M', '1978-01-01', 'Son');\n",
                "INSERT INTO Dependent(ESSN, Dependent_Name, Sex, BDate, Relationship) VALUES ('333445555', 'Alice',\t'F', '1976-05-04', 'Daughter');\n",
                "INSERT INTO Dependent(ESSN, Dependent_Name, Sex, BDate, Relationship) VALUES ('333445555', 'Joy',\t'F', '1948-03-05', 'Spouse');\n",
                "INSERT INTO Dependent(ESSN, Dependent_Name, Sex, BDate, Relationship) VALUES ('333445555', 'Theodore',\t'M', '1973-10-25', 'Son');\n",
                "INSERT INTO Dependent(ESSN, Dependent_Name, Sex, BDate, Relationship) VALUES ('987654321', 'Abner',\t'M', '1932-02-29', 'Spouse');\n",
                "\n",
                "-- Display all tables\n",
                "SELECT * FROM Department;\n",
                "SELECT * FROM Employee;\n",
                "SELECT * FROM Dept_Location;\n",
                "SELECT * FROM Project;\n",
                "SELECT * FROM Works_On;\n",
                "SELECT * FROM Dependent;"
            ],
            "metadata": {
                "azdata_cell_guid": "028a6c12-ff35-4cbe-a46b-9e94d5e80135",
                "language": "sql"
            },
            "outputs": [],
            "execution_count": null
        }
    ]
}