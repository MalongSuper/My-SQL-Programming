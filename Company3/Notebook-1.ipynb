{
    "metadata": {
        "kernelspec": {
            "name": "SQL",
            "display_name": "SQL",
            "language": "sql"
        },
        "language_info": {
            "name": "sql",
            "version": ""
        }
    },
    "nbformat_minor": 2,
    "nbformat": 4,
    "cells": [
        {
            "cell_type": "markdown",
            "source": [
                "A.\tRàng buộc - Constraint"
            ],
            "metadata": {
                "azdata_cell_guid": "d94c7c3a-43c6-4da6-b9cf-4838073ac12d"
            }
        },
        {
            "cell_type": "markdown",
            "source": [
                "1.\tViết câu lệnh thêm trường HireDate (ngày vào làm) vào bảng Employee. Viết câu lệnh tạo ràng buộc (Default) tên def_EmpHireDate để khi thêm một nhân viên mới thì mặc nhiên HireDate là ngày hiện hành."
            ],
            "metadata": {
                "azdata_cell_guid": "87d1357a-b592-4f9f-b992-5b7b465a774b"
            }
        },
        {
            "cell_type": "markdown",
            "source": [
                "Lệnh"
            ],
            "metadata": {
                "azdata_cell_guid": "190d1546-e463-4c1f-861f-053e448bfe52"
            }
        },
        {
            "cell_type": "markdown",
            "source": [
                "--SQL1"
            ],
            "metadata": {
                "azdata_cell_guid": "ede42517-5aa9-4897-9e02-e9e05499854b"
            }
        },
        {
            "cell_type": "code",
            "source": [
                "USE Company;"
            ],
            "metadata": {
                "azdata_cell_guid": "7fef20c3-49ee-4f85-aa23-df9a645af13c",
                "language": "sql"
            },
            "outputs": [],
            "execution_count": null
        },
        {
            "cell_type": "code",
            "source": [
                "ALTER TABLE EMPLOYEE\n",
                "ADD EmpHireDate DATE;\n",
                "\n",
                "ALTER TABLE Employee\n",
                "ADD CONSTRAINT def_EmpHireDate DEFAULT GETDATE() FOR EmpHireDate;\n",
                "\n",
                "\t\n",
                "-- Thực hiện – Kết quả (kiểm chứng)\n",
                "\n",
                "-- (Chụp màn hình kết quả dán vào đây)\n",
                "-- 2.\tViết câu lệnh tạo ràng buộc kiểm tra (check) tên chk_EmpSex để khi nhập, sửa giới tính (Sex) nhân viên chỉ nhận giá trị ‘M’ hoặc ‘F’.\n",
                "-- Lệnh\n",
                "-- --SQL1\n",
                "ALTER TABLE  EMPLOYEE\n",
                "ADD CONSTRAINT chk_EmpSex CHECK (Sex = 'M' OR Sex = 'F');"
            ],
            "metadata": {
                "azdata_cell_guid": "6cffcc2e-9cf0-41d0-8268-c443be94248f",
                "language": "sql"
            },
            "outputs": [],
            "execution_count": null
        },
        {
            "cell_type": "markdown",
            "source": [
                "Thực hiện – Kết quả (kiểm chứng)"
            ],
            "metadata": {
                "azdata_cell_guid": "e2311800-2533-4b10-aff9-b4ab7699a377"
            }
        },
        {
            "cell_type": "markdown",
            "source": [
                "3.\tViết câu lệnh tạo ràng buộc kiểm tra (check) tên chk_EmpSal để khi thêm hay cập nhật lương (Salary) một nhân viên tối thiểu là 25000."
            ],
            "metadata": {
                "azdata_cell_guid": "2d97fba7-b71f-4d7e-95b4-ad5dfb104759"
            }
        },
        {
            "cell_type": "markdown",
            "source": [
                "Lệnh"
            ],
            "metadata": {
                "azdata_cell_guid": "ecbe96fc-1e64-4c7b-bc9c-7a1d9dafe9d0"
            }
        },
        {
            "cell_type": "markdown",
            "source": [
                "--SQL1"
            ],
            "metadata": {
                "azdata_cell_guid": "0aa6b3a4-185a-4b9d-b115-68b1d803946b"
            }
        },
        {
            "cell_type": "code",
            "source": [
                "ALTER TABLE EMPLOYEE\n",
                "ADD CONSTRAINT chk_EmpSal CHECK (Salary >= 25000);"
            ],
            "metadata": {
                "azdata_cell_guid": "5b1ad121-9319-4afa-9b03-1ab741bbc064",
                "language": "sql"
            },
            "outputs": [],
            "execution_count": null
        },
        {
            "cell_type": "markdown",
            "source": [
                "Thực hiện – Kết quả (kiểm chứng)"
            ],
            "metadata": {
                "azdata_cell_guid": "d9db3af2-b197-4d28-9b54-f95a741ca4f6"
            }
        },
        {
            "cell_type": "markdown",
            "source": [
                "4.\tViết câu lệnh tạo ràng buộc kiểm tra (check) tên chk_EmpAge18 để khi thêm hay cập nhật ngày vào làm (HireDate) phải từ 18 tuổi trở lên."
            ],
            "metadata": {
                "azdata_cell_guid": "b9d91771-e49c-4431-9227-127613cb5be7"
            }
        },
        {
            "cell_type": "markdown",
            "source": [
                "Lệnh"
            ],
            "metadata": {
                "azdata_cell_guid": "6b5df2a4-22b5-4923-b27c-0aa5e2b62e98"
            }
        },
        {
            "cell_type": "markdown",
            "source": [
                "--SQL1"
            ],
            "metadata": {
                "azdata_cell_guid": "e7eb81d9-7dfa-435c-8f6b-6dbb8c49cd3c"
            }
        },
        {
            "cell_type": "code",
            "source": [
                "ALTER TABLE EMPLOYEE\n",
                "ADD CONSTRAINT chk_EmpAge18 CHECK ((DATEPART(year, EmpHireDate) - DATEPART(year, BDate)) >= 18);"
            ],
            "metadata": {
                "azdata_cell_guid": "473c5ae0-1e2a-4e44-8a92-1c0887d89206",
                "language": "sql"
            },
            "outputs": [],
            "execution_count": null
        },
        {
            "cell_type": "markdown",
            "source": [
                "Thực hiện – Kết quả (kiểm chứng)"
            ],
            "metadata": {
                "azdata_cell_guid": "b87a347f-1352-4d90-9ca8-d62054af30d1"
            }
        },
        {
            "cell_type": "markdown",
            "source": [
                "5.\tViết câu lệnh thêm cột Password sử dụng kiểu dữ liệu varchar(20) vào bảng Employee. Viết câu lệnh tạo ràng buộc kiểm tra (check) tên chk_EmpPwd để khi nhập, hiệu chỉnh dữ liệu cho trường này có thể bỏ trống (rỗng) hoặc phải từ 8 ký tự trở lên."
            ],
            "metadata": {
                "azdata_cell_guid": "64cba929-c828-4ec9-943d-04a048c9a08a"
            }
        },
        {
            "cell_type": "markdown",
            "source": [
                "Lệnh"
            ],
            "metadata": {
                "azdata_cell_guid": "f377ccac-d5a2-4db9-b64e-d839915315c5"
            }
        },
        {
            "cell_type": "markdown",
            "source": [
                "--SQL1"
            ],
            "metadata": {
                "azdata_cell_guid": "301777e0-e042-45e8-8816-81a4fc307c99"
            }
        },
        {
            "cell_type": "code",
            "source": [
                "ALTER TABLE EMPLOYEE\n",
                "ADD Password VARCHAR(20),\n",
                "    CONSTRAINT chk_EmpPwd CHECK (Password IS NULL OR LEN(Password) >= 8);"
            ],
            "metadata": {
                "azdata_cell_guid": "ff8f0041-b531-4ab9-8b4c-264a03d5654c",
                "language": "sql"
            },
            "outputs": [],
            "execution_count": null
        },
        {
            "cell_type": "markdown",
            "source": [
                "Thực hiện – Kết quả (kiểm chứng)"
            ],
            "metadata": {
                "azdata_cell_guid": "d1ea924e-057e-408d-bc2e-cc8be842ced1"
            }
        },
        {
            "cell_type": "markdown",
            "source": [
                "6.\tViết câu lệnh tạo mặc định (default) tên df_sex với giá trị có sẵn (mặc định) là nữ nếu người dùng không nhập dữ liệu. Thực hiện gán/áp dụng  default df_sex cho giới tính (Sex) trong bảng Nhân viên (Employee)."
            ],
            "metadata": {
                "azdata_cell_guid": "68908133-8a4b-4b44-9f08-015cc79b7bfc"
            }
        },
        {
            "cell_type": "markdown",
            "source": [
                "Lệnh"
            ],
            "metadata": {
                "azdata_cell_guid": "f7b87387-cc2f-47a3-8a2c-600168cf86d1"
            }
        },
        {
            "cell_type": "markdown",
            "source": [
                "--SQL1"
            ],
            "metadata": {
                "azdata_cell_guid": "abf56777-01d1-4e9f-a1f7-8dea63dbade2"
            }
        },
        {
            "cell_type": "code",
            "source": [
                "ALTER TABLE EMPLOYEE\n",
                "ADD CONSTRAINT df_sex DEFAULT 'F' FOR Sex;"
            ],
            "metadata": {
                "azdata_cell_guid": "89ff2431-bf1b-4c15-b0af-f481e4bce74f",
                "language": "sql"
            },
            "outputs": [],
            "execution_count": null
        },
        {
            "cell_type": "markdown",
            "source": [
                "7.\tViết câu lệnh tạo một qui tắc nhập liệu (rule) tên rule_Salary cho phép người dùng nhập lương lơn hơn hoặc bằng zero và nhỏ hơn bằng 100000. Thực hiện gán/áp dụng rule rule_Salary cho lương (Salary) trong bảng Nhân viên (Employee)."
            ],
            "metadata": {
                "azdata_cell_guid": "a2b644f0-e67c-456f-bd5e-77e86afbf663"
            }
        },
        {
            "cell_type": "markdown",
            "source": [
                "Lệnh"
            ],
            "metadata": {
                "azdata_cell_guid": "ddc133fd-29fd-4c0b-9c12-9f76a92df234"
            }
        },
        {
            "cell_type": "markdown",
            "source": [
                "--SQL1"
            ],
            "metadata": {
                "azdata_cell_guid": "26d01a6b-be47-4bc9-9b2b-4632c3586145"
            }
        },
        {
            "cell_type": "code",
            "source": [
                "ALTER TABLE EMPLOYEE\n",
                "ADD CONSTRAINT rule_Salary CHECK (Salary >= 0 OR Salary < 10000) \n",
                "\n",
                "-- 8.\tViết câu lệnh liệt kê các ràng buộc đang tồn tại trong 1 CSDL, ví dụ: Company\n",
                "-- Lệnh \n",
                "-- --SQL1\n",
                "SELECT TABLE_NAME, CONSTRAINT_NAME, CONSTRAINT_TYPE FROM INFORMATION_SCHEMA.TABLE_CONSTRAINTS;\n",
                "\n",
                "-- Thực hiện – Kết quả (kiểm chứng)\n",
                "\n",
                "-- 9.\tViết câu lệnh tạo cho biết tên ràng buộc khóa chính (Primary key) trong bảng Employee của 1 CSDL. ví dụ: CSDL Company.\n",
                "-- Lệnh \n",
                "-- --SQL1\n",
                "SELECT TABLE_NAME, CONSTRAINT_NAME, CONSTRAINT_TYPE FROM INFORMATION_SCHEMA.TABLE_CONSTRAINTS \n",
                "WHERE CONSTRAINT_TYPE = 'PRIMARY KEY' AND TABLE_NAME = 'Employee';\n",
                "\n",
                "-- Thực hiện – Kết quả (kiểm chứng)\n",
                "\n",
                "-- 10.\tViết câu lệnh xóa các ràng buộc đã tạo ở câu 1, 2 ,3, 5 gồm: def_EmpHireDate, chk_EmpSex, chk_EmpSal, chk_EmpPwd.\n",
                "-- Lệnh \n",
                "-- --SQL1\n",
                "ALTER TABLE EMPLOYEE\n",
                "DROP CONSTRAINT def_EmpHireDate;\n",
                "\n",
                "ALTER TABLE EMPLOYEE\n",
                "DROP CONSTRAINT chk_EmpSex;\n",
                "\n",
                "ALTER TABLE EMPLOYEE\n",
                "DROP CONSTRAINT chk_EmpSal;\n",
                "\n",
                "ALTER TABLE EMPLOYEE\n",
                "DROP CONSTRAINT chk_EmpPwd;\n",
                "\n",
                "-- 11.\tViết câu lệnh gỡ bỏ các mặc định (default) đã tạo (nếu có) trên trường Sex bảng Employee và xóa các mặc định (default) này.\n",
                "-- Lệnh \n",
                "-- --SQL1\n",
                "ALTER TABLE EMPLOYEE\n",
                "DROP CONSTRAINT df_sex;\n",
                "\n",
                "-- 12.\tViết câu lệnh gỡ bỏ các các quy tắc nhập liệu (rule) đã tạo (nếu có) trên trường Salary bảng Employee và xóa các quy tắc nhập liệu (rule) này.\n",
                "-- Lệnh\n",
                "-- --SQL1\n",
                "ALTER TABLE EMPLOYEE\n",
                "DROP CONSTRAINT rule_Salary;"
            ],
            "metadata": {
                "azdata_cell_guid": "cb4c8241-7d50-4ec7-ba05-e397f9fc5fdb",
                "language": "sql"
            },
            "outputs": [],
            "execution_count": null
        },
        {
            "cell_type": "markdown",
            "source": [
                "13.\tLiệt kê các ràng buộc trong SQL mà bạn biết, lưu ý tối thiểu 3 ràng buộc."
            ],
            "metadata": {
                "azdata_cell_guid": "0e6c7407-03a6-48ca-8e3d-19e22574e509"
            }
        },
        {
            "cell_type": "markdown",
            "source": [
                "Thực hiện – Kết quả (kiểm chứng)"
            ],
            "metadata": {
                "azdata_cell_guid": "61cdc490-738c-4034-909c-dbc95457c19e"
            }
        },
        {
            "cell_type": "markdown",
            "source": [
                "Tra Loi: PRIMARY KEY, UNIQUE KEY, FOREIGN KEY, DEFAULT, CHECK"
            ],
            "metadata": {
                "azdata_cell_guid": "168c9d96-47fd-4174-b5f1-1654b4c474ff"
            }
        }
    ]
}